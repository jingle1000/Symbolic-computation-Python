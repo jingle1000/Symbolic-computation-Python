{
 "cells": [
  {
   "cell_type": "code",
   "execution_count": 54,
   "metadata": {},
   "outputs": [],
   "source": [
    "import sympy as sy\n",
    "import matplotlib.pyplot as plt"
   ]
  },
  {
   "cell_type": "code",
   "execution_count": 3,
   "metadata": {},
   "outputs": [],
   "source": [
    "x, y, z = sy.symbols('x y z')\n",
    "sy.init_printing(pretty_print=True)"
   ]
  },
  {
   "cell_type": "markdown",
   "metadata": {},
   "source": [
    "## Derivatives"
   ]
  },
  {
   "cell_type": "markdown",
   "metadata": {},
   "source": [
    "### Differentiation by `diff()`"
   ]
  },
  {
   "cell_type": "code",
   "execution_count": 60,
   "metadata": {},
   "outputs": [
    {
     "data": {
      "image/png": "[encoded data removed]",
      "text/latex": [
       "$\\displaystyle \\cos{\\left(x \\right)}$"
      ],
      "text/plain": [
       "cos(x)"
      ]
     },
     "execution_count": 60,
     "metadata": {},
     "output_type": "execute_result"
    }
   ],
   "source": [
    "expr=sy.cos(x)\n",
    "expr"
   ]
  },
  {
   "cell_type": "code",
   "execution_count": 61,
   "metadata": {},
   "outputs": [
    {
     "data": {
      "image/png": "[encoded data removed]",
      "text/latex": [
       "$\\displaystyle - \\sin{\\left(x \\right)}$"
      ],
      "text/plain": [
       "-sin(x)"
      ]
     },
     "execution_count": 61,
     "metadata": {},
     "output_type": "execute_result"
    }
   ],
   "source": [
    "sy.diff(expr,x)"
   ]
  },
  {
   "cell_type": "markdown",
   "metadata": {},
   "source": [
    "### Multiple derivatives at once\n",
    "$\\frac{d^3}{dx^3}(x^4)=\\frac{d^2}{dx^2}(4x^3)=\\frac{d}{dx}(12x^2)=24x$"
   ]
  },
  {
   "cell_type": "code",
   "execution_count": 62,
   "metadata": {},
   "outputs": [
    {
     "data": {
      "image/png": "[encoded data removed]",
      "text/latex": [
       "$\\displaystyle 24 x$"
      ],
      "text/plain": [
       "24⋅x"
      ]
     },
     "execution_count": 62,
     "metadata": {},
     "output_type": "execute_result"
    }
   ],
   "source": [
    "sy.diff(x**4, x, x, x)"
   ]
  },
  {
   "cell_type": "code",
   "execution_count": 63,
   "metadata": {},
   "outputs": [
    {
     "data": {
      "image/png": "[encoded data removed]",
      "text/latex": [
       "$\\displaystyle 24 x$"
      ],
      "text/plain": [
       "24⋅x"
      ]
     },
     "execution_count": 63,
     "metadata": {},
     "output_type": "execute_result"
    }
   ],
   "source": [
    "sy.diff(x**4,x,3)"
   ]
  },
  {
   "cell_type": "code",
   "execution_count": 64,
   "metadata": {},
   "outputs": [
    {
     "data": {
      "image/png": "[encoded data removed]",
      "text/latex": [
       "$\\displaystyle e^{x y z}$"
      ],
      "text/plain": [
       " x⋅y⋅z\n",
       "ℯ     "
      ]
     },
     "execution_count": 64,
     "metadata": {},
     "output_type": "execute_result"
    }
   ],
   "source": [
    "expr = sy.exp(x*y*z)\n",
    "expr"
   ]
  },
  {
   "cell_type": "code",
   "execution_count": 65,
   "metadata": {},
   "outputs": [
    {
     "data": {
      "image/png": "[encoded data removed]",
      "text/latex": [
       "$\\displaystyle x z^{2} \\left(x y z + 2\\right) e^{x y z}$"
      ],
      "text/plain": [
       "   2              x⋅y⋅z\n",
       "x⋅z ⋅(x⋅y⋅z + 2)⋅ℯ     "
      ]
     },
     "execution_count": 65,
     "metadata": {},
     "output_type": "execute_result"
    }
   ],
   "source": [
    "sy.diff(expr, y, 2, x)"
   ]
  },
  {
   "cell_type": "code",
   "execution_count": 66,
   "metadata": {},
   "outputs": [
    {
     "data": {
      "image/png": "[encoded data removed]",
      "text/latex": [
       "$\\displaystyle x^{3} y^{2} \\left(x^{3} y^{3} z^{3} + 14 x^{2} y^{2} z^{2} + 52 x y z + 48\\right) e^{x y z}$"
      ],
      "text/plain": [
       " 3  2 ⎛ 3  3  3       2  2  2                ⎞  x⋅y⋅z\n",
       "x ⋅y ⋅⎝x ⋅y ⋅z  + 14⋅x ⋅y ⋅z  + 52⋅x⋅y⋅z + 48⎠⋅ℯ     "
      ]
     },
     "execution_count": 66,
     "metadata": {},
     "output_type": "execute_result"
    }
   ],
   "source": [
    "sy.diff(expr, x, y, 2, z, 4)"
   ]
  },
  {
   "cell_type": "markdown",
   "metadata": {},
   "source": [
    "### To create an unevaluated derivative, use the `Derivative` class. It has the same syntax as `diff`. To evaluate an unevaluated derivative, use the `doit` method."
   ]
  },
  {
   "cell_type": "code",
   "execution_count": 67,
   "metadata": {},
   "outputs": [
    {
     "data": {
      "image/png": "[encoded data removed]",
      "text/latex": [
       "$\\displaystyle \\frac{\\partial^{7}}{\\partial z^{4}\\partial y^{2}\\partial x} e^{x y z}$"
      ],
      "text/plain": [
       "     7            \n",
       "    ∂     ⎛ x⋅y⋅z⎞\n",
       "──────────⎝ℯ     ⎠\n",
       "  4   2           \n",
       "∂z  ∂y  ∂x        "
      ]
     },
     "execution_count": 67,
     "metadata": {},
     "output_type": "execute_result"
    }
   ],
   "source": [
    "deriv = sy.Derivative(expr, x, y, y, z, 4)\n",
    "deriv"
   ]
  },
  {
   "cell_type": "code",
   "execution_count": 68,
   "metadata": {},
   "outputs": [
    {
     "data": {
      "image/png": "[encoded data removed]",
      "text/latex": [
       "$\\displaystyle x^{3} y^{2} \\left(x^{3} y^{3} z^{3} + 14 x^{2} y^{2} z^{2} + 52 x y z + 48\\right) e^{x y z}$"
      ],
      "text/plain": [
       " 3  2 ⎛ 3  3  3       2  2  2                ⎞  x⋅y⋅z\n",
       "x ⋅y ⋅⎝x ⋅y ⋅z  + 14⋅x ⋅y ⋅z  + 52⋅x⋅y⋅z + 48⎠⋅ℯ     "
      ]
     },
     "execution_count": 68,
     "metadata": {},
     "output_type": "execute_result"
    }
   ],
   "source": [
    "deriv.doit()"
   ]
  },
  {
   "cell_type": "markdown",
   "metadata": {},
   "source": [
    "## Integrals\n",
    "To compute an integral, use the __`integrate()`__ function. There are two kinds of integrals, definite and indefinite. To compute an indefinite integral, that is, an antiderivative, or primitive, just pass the variable after the expression."
   ]
  },
  {
   "cell_type": "code",
   "execution_count": 69,
   "metadata": {},
   "outputs": [
    {
     "data": {
      "image/png": "[encoded data removed]",
      "text/latex": [
       "$\\displaystyle \\sin{\\left(3 x \\right)} + \\cos{\\left(x \\right)}$"
      ],
      "text/plain": [
       "sin(3⋅x) + cos(x)"
      ]
     },
     "execution_count": 69,
     "metadata": {},
     "output_type": "execute_result"
    }
   ],
   "source": [
    "f = sy.cos(x)+sy.sin(3*x)\n",
    "f"
   ]
  },
  {
   "cell_type": "code",
   "execution_count": 70,
   "metadata": {},
   "outputs": [
    {
     "data": {
      "image/png": "[encoded data removed]",
      "text/latex": [
       "$\\displaystyle \\sin{\\left(x \\right)} - \\frac{\\cos{\\left(3 x \\right)}}{3}$"
      ],
      "text/plain": [
       "         cos(3⋅x)\n",
       "sin(x) - ────────\n",
       "            3    "
      ]
     },
     "execution_count": 70,
     "metadata": {},
     "output_type": "execute_result"
    }
   ],
   "source": [
    "sy.integrate(f, x)"
   ]
  },
  {
   "cell_type": "markdown",
   "metadata": {},
   "source": [
    "### To compute a definite integral, pass the argument `(integration_variable, lower_limit, upper_limit)`.\n",
    "$$\\int_{0}^{\\infty}{e^{-x^2}}dx=\\frac{\\sqrt{\\pi}}{2}$$"
   ]
  },
  {
   "cell_type": "code",
   "execution_count": 72,
   "metadata": {},
   "outputs": [
    {
     "data": {
      "image/png": "[encoded data removed]",
      "text/latex": [
       "$\\displaystyle e^{- x^{2}}$"
      ],
      "text/plain": [
       "   2\n",
       " -x \n",
       "ℯ   "
      ]
     },
     "execution_count": 72,
     "metadata": {},
     "output_type": "execute_result"
    }
   ],
   "source": [
    "expr = sy.exp(-x**2)\n",
    "expr"
   ]
  },
  {
   "cell_type": "code",
   "execution_count": 73,
   "metadata": {},
   "outputs": [
    {
     "data": {
      "image/png": "[encoded data removed]",
      "text/latex": [
       "$\\displaystyle \\frac{\\sqrt{\\pi}}{2}$"
      ],
      "text/plain": [
       "√π\n",
       "──\n",
       "2 "
      ]
     },
     "execution_count": 73,
     "metadata": {},
     "output_type": "execute_result"
    }
   ],
   "source": [
    "sy.integrate(expr, (x, 0, sy.oo))"
   ]
  },
  {
   "cell_type": "markdown",
   "metadata": {},
   "source": [
    "### As with indefinite integrals, you can pass multiple limit tuples to perform a multiple integral.\n",
    "$$\\int_{-\\infty}^{\\infty}\\int_{-\\infty}^{\\infty}e^{-(x^2+y^2)}.dxdy=\\pi$$"
   ]
  },
  {
   "cell_type": "code",
   "execution_count": 74,
   "metadata": {},
   "outputs": [
    {
     "data": {
      "image/png": "[encoded data removed]",
      "text/latex": [
       "$\\displaystyle e^{- x^{2} - y^{2}}$"
      ],
      "text/plain": [
       "    2    2\n",
       " - x  - y \n",
       "ℯ         "
      ]
     },
     "execution_count": 74,
     "metadata": {},
     "output_type": "execute_result"
    }
   ],
   "source": [
    "f = sy.exp(-x**2 - y**2)\n",
    "f"
   ]
  },
  {
   "cell_type": "code",
   "execution_count": 75,
   "metadata": {},
   "outputs": [
    {
     "data": {
      "image/png": "[encoded data removed]",
      "text/latex": [
       "$\\displaystyle \\pi$"
      ],
      "text/plain": [
       "π"
      ]
     },
     "execution_count": 75,
     "metadata": {},
     "output_type": "execute_result"
    }
   ],
   "source": [
    "sy.integrate(f, (x, -sy.oo, sy.oo), (y, -sy.oo, sy.oo))"
   ]
  },
  {
   "cell_type": "markdown",
   "metadata": {},
   "source": [
    "### As with `Derivative`, you can create an unevaluated integral using `Integral`. To later evaluate this integral, call `doit`."
   ]
  },
  {
   "cell_type": "code",
   "execution_count": 76,
   "metadata": {},
   "outputs": [
    {
     "data": {
      "image/png": "[encoded data removed]",
      "text/latex": [
       "$\\displaystyle \\int \\log{\\left(x \\right)}^{2}\\, dx$"
      ],
      "text/plain": [
       "⌠           \n",
       "⎮    2      \n",
       "⎮ log (x) dx\n",
       "⌡           "
      ]
     },
     "execution_count": 76,
     "metadata": {},
     "output_type": "execute_result"
    }
   ],
   "source": [
    "expr = sy.Integral(sy.log(x)**2, x)\n",
    "expr"
   ]
  },
  {
   "cell_type": "code",
   "execution_count": 77,
   "metadata": {},
   "outputs": [
    {
     "data": {
      "image/png": "[encoded data removed]",
      "text/latex": [
       "$\\displaystyle x \\log{\\left(x \\right)}^{2} - 2 x \\log{\\left(x \\right)} + 2 x$"
      ],
      "text/plain": [
       "     2                      \n",
       "x⋅log (x) - 2⋅x⋅log(x) + 2⋅x"
      ]
     },
     "execution_count": 77,
     "metadata": {},
     "output_type": "execute_result"
    }
   ],
   "source": [
    "expr.doit()"
   ]
  },
  {
   "cell_type": "markdown",
   "metadata": {},
   "source": [
    "### SymPy invokes powerful algorithm and special functions to compute integrals to the best of its ability. Some examples are shown below ... "
   ]
  },
  {
   "cell_type": "code",
   "execution_count": 78,
   "metadata": {},
   "outputs": [
    {
     "data": {
      "image/png": "[encoded data removed]",
      "text/latex": [
       "$\\displaystyle \\int\\limits_{0}^{\\infty} x^{y} e^{- x}\\, dx$"
      ],
      "text/plain": [
       "∞          \n",
       "⌠          \n",
       "⎮  y  -x   \n",
       "⎮ x ⋅ℯ   dx\n",
       "⌡          \n",
       "0          "
      ]
     },
     "execution_count": 78,
     "metadata": {},
     "output_type": "execute_result"
    }
   ],
   "source": [
    "integ = sy.Integral(x**y*sy.exp(-x), (x, 0, sy.oo))\n",
    "integ"
   ]
  },
  {
   "cell_type": "code",
   "execution_count": 79,
   "metadata": {},
   "outputs": [
    {
     "data": {
      "text/latex": [
       "$\\displaystyle \\begin{cases} \\Gamma\\left(y + 1\\right) & \\text{for}\\: \\operatorname{re}{\\left(y\\right)} > -1 \\\\\\int\\limits_{0}^{\\infty} x^{y} e^{- x}\\, dx & \\text{otherwise} \\end{cases}$"
      ],
      "text/plain": [
       "⎧ Γ(y + 1)    for re(y) > -1\n",
       "⎪                           \n",
       "⎪∞                          \n",
       "⎪⌠                          \n",
       "⎨⎮  y  -x                   \n",
       "⎪⎮ x ⋅ℯ   dx    otherwise   \n",
       "⎪⌡                          \n",
       "⎪0                          \n",
       "⎩                           "
      ]
     },
     "execution_count": 79,
     "metadata": {},
     "output_type": "execute_result"
    }
   ],
   "source": [
    "integ.doit()"
   ]
  },
  {
   "cell_type": "code",
   "execution_count": 80,
   "metadata": {},
   "outputs": [
    {
     "data": {
      "image/png": "[encoded data removed]",
      "text/latex": [
       "$\\displaystyle \\int \\sin{\\left(x^{2} \\right)}\\, dx$"
      ],
      "text/plain": [
       "⌠           \n",
       "⎮    ⎛ 2⎞   \n",
       "⎮ sin⎝x ⎠ dx\n",
       "⌡           "
      ]
     },
     "execution_count": 80,
     "metadata": {},
     "output_type": "execute_result"
    }
   ],
   "source": [
    "integ=sy.Integral(sy.sin(x**2),x)\n",
    "integ"
   ]
  },
  {
   "cell_type": "code",
   "execution_count": 81,
   "metadata": {},
   "outputs": [
    {
     "data": {
      "image/png": "[encoded data removed]",
      "text/latex": [
       "$\\displaystyle \\frac{3 \\sqrt{2} \\sqrt{\\pi} S\\left(\\frac{\\sqrt{2} x}{\\sqrt{\\pi}}\\right) \\Gamma\\left(\\frac{3}{4}\\right)}{8 \\Gamma\\left(\\frac{7}{4}\\right)}$"
      ],
      "text/plain": [
       "         ⎛√2⋅x⎞       \n",
       "3⋅√2⋅√π⋅S⎜────⎟⋅Γ(3/4)\n",
       "         ⎝ √π ⎠       \n",
       "──────────────────────\n",
       "       8⋅Γ(7/4)       "
      ]
     },
     "execution_count": 81,
     "metadata": {},
     "output_type": "execute_result"
    }
   ],
   "source": [
    "integ.doit()"
   ]
  },
  {
   "cell_type": "code",
   "execution_count": 82,
   "metadata": {},
   "outputs": [
    {
     "data": {
      "image/png": "[encoded data removed]",
      "text/latex": [
       "$\\displaystyle \\int \\frac{x^{2} + 2 x + 5}{3 x^{3} + 1}\\, dx$"
      ],
      "text/plain": [
       "⌠                \n",
       "⎮  2             \n",
       "⎮ x  + 2⋅x + 5   \n",
       "⎮ ──────────── dx\n",
       "⎮      3         \n",
       "⎮   3⋅x  + 1     \n",
       "⌡                "
      ]
     },
     "execution_count": 82,
     "metadata": {},
     "output_type": "execute_result"
    }
   ],
   "source": [
    "integ=sy.Integral((x**2+2*x+5)/(3*x**3+1),x)\n",
    "integ"
   ]
  },
  {
   "cell_type": "code",
   "execution_count": 83,
   "metadata": {},
   "outputs": [
    {
     "data": {
      "image/png": "[encoded data removed]",
      "text/latex": [
       "$\\displaystyle \\left(- \\frac{5 \\cdot 3^{\\frac{2}{3}}}{18} + \\frac{1}{9} + \\frac{\\sqrt[3]{3}}{9}\\right) \\log{\\left(x^{2} + \\frac{x \\left(-15 + 2 \\cdot 3^{\\frac{2}{3}}\\right)}{-6 + 15 \\sqrt[3]{3}} - \\frac{-75 - 4 \\sqrt[3]{3} + 20 \\cdot 3^{\\frac{2}{3}}}{- 60 \\sqrt[3]{3} + 12 + 75 \\cdot 3^{\\frac{2}{3}}} \\right)} + \\left(- \\frac{2 \\sqrt[3]{3}}{9} + \\frac{1}{9} + \\frac{5 \\cdot 3^{\\frac{2}{3}}}{9}\\right) \\log{\\left(x - \\frac{142 \\sqrt[3]{3}}{1149} + \\frac{118}{1149} + \\frac{54 \\left(- \\frac{2 \\sqrt[3]{3}}{9} + \\frac{1}{9} + \\frac{5 \\cdot 3^{\\frac{2}{3}}}{9}\\right)^{2}}{383} + \\frac{355 \\cdot 3^{\\frac{2}{3}}}{1149} \\right)} + \\frac{\\sqrt{3} \\sqrt{-60 + 150 \\sqrt[3]{3} + 367 \\cdot 3^{\\frac{2}{3}}} \\operatorname{atan}{\\left(\\frac{2298 x \\sqrt{-2 + 5 \\sqrt[3]{3}}}{- 30 \\sqrt[6]{3} \\sqrt{-60 + 150 \\sqrt[3]{3} + 367 \\cdot 3^{\\frac{2}{3}}} + 4 \\cdot 3^{\\frac{5}{6}} \\sqrt{-60 + 150 \\sqrt[3]{3} + 367 \\cdot 3^{\\frac{2}{3}}} + 75 \\sqrt{3} \\sqrt{-60 + 150 \\sqrt[3]{3} + 367 \\cdot 3^{\\frac{2}{3}}}} + \\frac{-5745 + 766 \\cdot 3^{\\frac{2}{3}}}{- 30 \\sqrt[6]{3} \\sqrt{-2 + 5 \\sqrt[3]{3}} \\sqrt{-60 + 150 \\sqrt[3]{3} + 367 \\cdot 3^{\\frac{2}{3}}} + 4 \\cdot 3^{\\frac{5}{6}} \\sqrt{-2 + 5 \\sqrt[3]{3}} \\sqrt{-60 + 150 \\sqrt[3]{3} + 367 \\cdot 3^{\\frac{2}{3}}} + 75 \\sqrt{3} \\sqrt{-2 + 5 \\sqrt[3]{3}} \\sqrt{-60 + 150 \\sqrt[3]{3} + 367 \\cdot 3^{\\frac{2}{3}}}} \\right)}}{9 \\sqrt{-2 + 5 \\sqrt[3]{3}}}$"
      ],
      "text/plain": [
       "                                                                              \n",
       "                                                                              \n",
       "                                                                              \n",
       "                                                                              \n",
       "                                                                              \n",
       "⎛     2/3       3 ___⎞    ⎛       ⎛         2/3⎞            3 ___       2/3 ⎞ \n",
       "⎜  5⋅3      1   ╲╱ 3 ⎟    ⎜ 2   x⋅⎝-15 + 2⋅3   ⎠    -75 - 4⋅╲╱ 3  + 20⋅3    ⎟ \n",
       "⎜- ────── + ─ + ─────⎟⋅log⎜x  + ──────────────── - ─────────────────────────⎟ \n",
       "⎝    18     9     9  ⎠    ⎜              3 ___          3 ___            2/3⎟ \n",
       "                          ⎝      -6 + 15⋅╲╱ 3      - 60⋅╲╱ 3  + 12 + 75⋅3   ⎠ \n",
       "                                                                              \n",
       "\n",
       "                                                                              \n",
       "                                                                              \n",
       "                              ⎛                                               \n",
       "                              ⎜                          ⎛    3 ___          2\n",
       "                              ⎜                          ⎜  2⋅╲╱ 3    1   5⋅3 \n",
       "  ⎛    3 ___          2/3⎞    ⎜        3 ___          54⋅⎜- ─────── + ─ + ────\n",
       "  ⎜  2⋅╲╱ 3    1   5⋅3   ⎟    ⎜    142⋅╲╱ 3    118       ⎝     9      9     9 \n",
       "+ ⎜- ─────── + ─ + ──────⎟⋅log⎜x - ───────── + ──── + ────────────────────────\n",
       "  ⎝     9      9     9   ⎠    ⎝       1149     1149               383         \n",
       "                                                                              \n",
       "                                                                              \n",
       "\n",
       "                                                          ⎛                   \n",
       "                         ____________________________     ⎜                   \n",
       "   2           ⎞        ╱           3 ___        2/3      ⎜                   \n",
       "/3⎞            ⎟   √3⋅╲╱  -60 + 150⋅╲╱ 3  + 367⋅3    ⋅atan⎜───────────────────\n",
       "  ⎟            ⎟                                          ⎜              _____\n",
       "──⎟         2/3⎟                                          ⎜     6 ___   ╱     \n",
       "  ⎠    355⋅3   ⎟                                          ⎝- 30⋅╲╱ 3 ⋅╲╱  -60 \n",
       "──── + ────────⎟ + ───────────────────────────────────────────────────────────\n",
       "         1149  ⎠                                                              \n",
       "                                                                              \n",
       "                                                                              \n",
       "\n",
       "                                         ______________                       \n",
       "                                        ╱        3 ___                        \n",
       "                               2298⋅x⋅╲╱  -2 + 5⋅╲╱ 3                         \n",
       "──────────────────────────────────────────────────────────────────────────────\n",
       "_______________________             ____________________________            __\n",
       "      3 ___        2/3       5/6   ╱           3 ___        2/3            ╱  \n",
       "+ 150⋅╲╱ 3  + 367⋅3     + 4⋅3   ⋅╲╱  -60 + 150⋅╲╱ 3  + 367⋅3     + 75⋅√3⋅╲╱  -\n",
       "──────────────────────────────────────────────────────────────────────────────\n",
       "                                                                              \n",
       "                                                                              \n",
       "                                                                              \n",
       "\n",
       "                                                                              \n",
       "                                                                              \n",
       "                                                                              \n",
       "────────────────────────── + ─────────────────────────────────────────────────\n",
       "__________________________                 ______________    _________________\n",
       "         3 ___        2/3         6 ___   ╱        3 ___    ╱           3 ___ \n",
       "60 + 150⋅╲╱ 3  + 367⋅3       - 30⋅╲╱ 3 ⋅╲╱  -2 + 5⋅╲╱ 3  ⋅╲╱  -60 + 150⋅╲╱ 3  \n",
       "──────────────────────────────────────────────────────────────────────────────\n",
       "                              ______________                                  \n",
       "                             ╱        3 ___                                   \n",
       "                         9⋅╲╱  -2 + 5⋅╲╱ 3                                    \n",
       "\n",
       "                                                                              \n",
       "                                             2/3                              \n",
       "                                -5745 + 766⋅3                                 \n",
       "──────────────────────────────────────────────────────────────────────────────\n",
       "___________             ______________    ____________________________        \n",
       "       2/3       5/6   ╱        3 ___    ╱           3 ___        2/3         \n",
       "+ 367⋅3     + 4⋅3   ⋅╲╱  -2 + 5⋅╲╱ 3  ⋅╲╱  -60 + 150⋅╲╱ 3  + 367⋅3     + 75⋅√3\n",
       "──────────────────────────────────────────────────────────────────────────────\n",
       "                                                                              \n",
       "                                                                              \n",
       "                                                                              \n",
       "\n",
       "                                                  ⎞\n",
       "                                                  ⎟\n",
       "                                                  ⎟\n",
       "──────────────────────────────────────────────────⎟\n",
       "    ______________    ____________________________⎟\n",
       "   ╱        3 ___    ╱           3 ___        2/3 ⎟\n",
       "⋅╲╱  -2 + 5⋅╲╱ 3  ⋅╲╱  -60 + 150⋅╲╱ 3  + 367⋅3    ⎠\n",
       "───────────────────────────────────────────────────\n",
       "                                                   \n",
       "                                                   \n",
       "                                                   "
      ]
     },
     "execution_count": 83,
     "metadata": {},
     "output_type": "execute_result"
    }
   ],
   "source": [
    "integ.doit()"
   ]
  },
  {
   "cell_type": "markdown",
   "metadata": {},
   "source": [
    "## Limits\n",
    "SymPy can compute symbolic limits with the __`limit`__ function. The syntax to compute limit of $f(x)$ as $x$ tends to $x_0$ is `limit(f(x), x, x0)`. We know,\n",
    "$$\\lim_{x\\rightarrow 0}{\\frac{sin(x)}{x}}=1$$"
   ]
  },
  {
   "cell_type": "code",
   "execution_count": 84,
   "metadata": {},
   "outputs": [
    {
     "data": {
      "image/png": "[encoded data removed]",
      "text/latex": [
       "$\\displaystyle \\frac{\\sin{\\left(x \\right)}}{x}$"
      ],
      "text/plain": [
       "sin(x)\n",
       "──────\n",
       "  x   "
      ]
     },
     "execution_count": 84,
     "metadata": {},
     "output_type": "execute_result"
    }
   ],
   "source": [
    "expr=sy.sin(x)/x\n",
    "expr"
   ]
  },
  {
   "cell_type": "code",
   "execution_count": 85,
   "metadata": {},
   "outputs": [
    {
     "data": {
      "image/png": "[encoded data removed]",
      "text/latex": [
       "$\\displaystyle 1$"
      ],
      "text/plain": [
       "1"
      ]
     },
     "execution_count": 85,
     "metadata": {},
     "output_type": "execute_result"
    }
   ],
   "source": [
    "sy.limit(expr,x,0)"
   ]
  },
  {
   "cell_type": "code",
   "execution_count": 86,
   "metadata": {},
   "outputs": [
    {
     "data": {
      "image/png": "[encoded data removed]",
      "text/plain": [
       "<Figure size 432x288 with 1 Axes>"
      ]
     },
     "metadata": {
      "needs_background": "light"
     },
     "output_type": "display_data"
    },
    {
     "data": {
      "text/plain": [
       "<sympy.plotting.plot.Plot at 0x7f23c7e4e690>"
      ]
     },
     "execution_count": 86,
     "metadata": {},
     "output_type": "execute_result"
    }
   ],
   "source": [
    "sy.plot(expr)"
   ]
  },
  {
   "cell_type": "markdown",
   "metadata": {},
   "source": [
    "### To evaluate a limit at one side only, pass `'+'` or `'-'` as a third argument to limit. For example, to compute\n",
    "$$\\lim_{x\\rightarrow 0^+}{\\frac{1}{x}}$$\n",
    "do"
   ]
  },
  {
   "cell_type": "code",
   "execution_count": 90,
   "metadata": {},
   "outputs": [
    {
     "data": {
      "image/png": "[encoded data removed]",
      "text/latex": [
       "$\\displaystyle \\infty$"
      ],
      "text/plain": [
       "∞"
      ]
     },
     "execution_count": 90,
     "metadata": {},
     "output_type": "execute_result"
    }
   ],
   "source": [
    "sy.limit(1/x, x, 0, '+')"
   ]
  },
  {
   "cell_type": "code",
   "execution_count": 91,
   "metadata": {},
   "outputs": [
    {
     "data": {
      "image/png": "[encoded data removed]",
      "text/latex": [
       "$\\displaystyle -\\infty$"
      ],
      "text/plain": [
       "-∞"
      ]
     },
     "execution_count": 91,
     "metadata": {},
     "output_type": "execute_result"
    }
   ],
   "source": [
    "sy.limit(1/x, x, 0, '-')"
   ]
  },
  {
   "cell_type": "code",
   "execution_count": 92,
   "metadata": {},
   "outputs": [
    {
     "data": {
      "image/png": "[encoded data removed]",
      "text/plain": [
       "<Figure size 432x288 with 1 Axes>"
      ]
     },
     "metadata": {
      "needs_background": "light"
     },
     "output_type": "display_data"
    },
    {
     "data": {
      "text/plain": [
       "<sympy.plotting.plot.Plot at 0x7f23c68945d0>"
      ]
     },
     "execution_count": 92,
     "metadata": {},
     "output_type": "execute_result"
    }
   ],
   "source": [
    "sy.plot(1/x)"
   ]
  },
  {
   "cell_type": "markdown",
   "metadata": {},
   "source": [
    "## Series Expansion\n",
    "SymPy can compute asymptotic series expansions of functions around a point."
   ]
  },
  {
   "cell_type": "code",
   "execution_count": 93,
   "metadata": {},
   "outputs": [
    {
     "data": {
      "image/png": "[encoded data removed]",
      "text/latex": [
       "$\\displaystyle e^{\\sin{\\left(x \\right)}}$"
      ],
      "text/plain": [
       " sin(x)\n",
       "ℯ      "
      ]
     },
     "execution_count": 93,
     "metadata": {},
     "output_type": "execute_result"
    }
   ],
   "source": [
    "expr = sy.exp(sy.sin(x))\n",
    "expr"
   ]
  },
  {
   "cell_type": "code",
   "execution_count": 95,
   "metadata": {},
   "outputs": [
    {
     "data": {
      "image/png": "[encoded data removed]",
      "text/latex": [
       "$\\displaystyle 1 + x + \\frac{x^{2}}{2} + O\\left(x^{4}\\right)$"
      ],
      "text/plain": [
       "         2        \n",
       "        x     ⎛ 4⎞\n",
       "1 + x + ── + O⎝x ⎠\n",
       "        2         "
      ]
     },
     "execution_count": 95,
     "metadata": {},
     "output_type": "execute_result"
    }
   ],
   "source": [
    "expr.series(x, 0, 4)"
   ]
  },
  {
   "cell_type": "markdown",
   "metadata": {},
   "source": [
    "### If you do not want the order term, use the `removeO` method."
   ]
  },
  {
   "cell_type": "code",
   "execution_count": 96,
   "metadata": {},
   "outputs": [
    {
     "data": {
      "image/png": "[encoded data removed]",
      "text/latex": [
       "$\\displaystyle \\frac{x^{6}}{2} + \\frac{3 x^{4}}{2} + 2 x^{2} + 1$"
      ],
      "text/plain": [
       " 6      4           \n",
       "x    3⋅x       2    \n",
       "── + ──── + 2⋅x  + 1\n",
       "2     2             "
      ]
     },
     "execution_count": 96,
     "metadata": {},
     "output_type": "execute_result"
    }
   ],
   "source": [
    "expr = sy.exp(sy.sin(x**2)+sy.log(x**2+1))\n",
    "expr.series(x, 0, 7).removeO()"
   ]
  },
  {
   "cell_type": "markdown",
   "metadata": {},
   "source": [
    "### The `O` notation supports arbitrary limit points (other than 0)"
   ]
  },
  {
   "cell_type": "code",
   "execution_count": 97,
   "metadata": {},
   "outputs": [
    {
     "data": {
      "image/png": "[encoded data removed]",
      "text/latex": [
       "$\\displaystyle -5 + \\frac{\\left(x - 6\\right)^{2}}{2} + \\frac{\\left(x - 6\\right)^{3}}{6} + \\frac{\\left(x - 6\\right)^{4}}{24} + \\frac{\\left(x - 6\\right)^{5}}{120} + x + O\\left(\\left(x - 6\\right)^{6}; x\\rightarrow 6\\right)$"
      ],
      "text/plain": [
       "            2          3          4          5                         \n",
       "     (x - 6)    (x - 6)    (x - 6)    (x - 6)         ⎛       6       ⎞\n",
       "-5 + ──────── + ──────── + ──────── + ──────── + x + O⎝(x - 6) ; x → 6⎠\n",
       "        2          6          24        120                            "
      ]
     },
     "execution_count": 97,
     "metadata": {},
     "output_type": "execute_result"
    }
   ],
   "source": [
    "sy.exp(x - 6).series(x, x0=6)"
   ]
  },
  {
   "cell_type": "code",
   "execution_count": null,
   "metadata": {},
   "outputs": [],
   "source": []
  }
 ],
 "metadata": {
  "kernelspec": {
   "display_name": "Python 3",
   "language": "python",
   "name": "python3"
  },
  "language_info": {
   "codemirror_mode": {
    "name": "ipython",
    "version": 3
   },
   "file_extension": ".py",
   "mimetype": "text/x-python",
   "name": "python",
   "nbconvert_exporter": "python",
   "pygments_lexer": "ipython3",
   "version": "3.7.5"
  },
  "latex_envs": {
   "LaTeX_envs_menu_present": true,
   "autoclose": false,
   "autocomplete": true,
   "bibliofile": "biblio.bib",
   "cite_by": "apalike",
   "current_citInitial": 1,
   "eqLabelWithNumbers": true,
   "eqNumInitial": 1,
   "hotkeys": {
    "equation": "Ctrl-E",
    "itemize": "Ctrl-I"
   },
   "labels_anchors": false,
   "latex_user_defs": false,
   "report_style_numbering": false,
   "user_envs_cfg": false
  }
 },
 "nbformat": 4,
 "nbformat_minor": 2
}
